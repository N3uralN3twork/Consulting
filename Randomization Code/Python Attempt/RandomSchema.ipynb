{
 "cells": [
  {
   "cell_type": "markdown",
   "metadata": {},
   "source": [
    "## Project: Randomization Schema\n",
    "## Class: Statistical Consulting Continuation\n",
    "## Start Date: March 12th, 2022\n",
    "\n",
    "**<font color='red'>GOAL:</font>**\n",
    "\n",
    "I should be able to give your code and directions to any statistics student and they should be able to produce the same schema that you have, which represents the desired study design.  The input to your programs should be the parameters of #sites, #subjects/site, Randomization ratio, stratification levels.  The output should be the desired study design.\n",
    "\n",
    "**<font color='red'>DESCRIPTION:</font>**\n",
    "1.\tWrite code to create a reproducible, completely randomized design schema for *S* subjects at *T* sites in blocks of *B* where randomization is *N:D* treatment:control\n",
    "\n",
    "    a.\tExample 1:  30 subjects at site one in blocks of 6 where randomization is 1:1 treatment:control\n",
    "\n",
    "        i.\tI want the result to be a sequential list of 30 codes that look like AAA##(T or C)\n",
    "\n",
    "        ii.\tAAA01T, AAA02T, AAA03C,…, AAA30T\n",
    "\n",
    "    b.\tExample 2:  48 subjects at each of two sites in blocks of 12 where randomization is 3:1 treatment:control\n",
    "\n",
    "        i.\tI want the result to be a sequential list of 96 codes that look like AAA##(T or C) or BBB##(T or C)\n",
    "        \n",
    "        ii.\tAAA01T, AAA02T, AAA03C,…, AAA48T, BBB01T, BBB02T, BBB03C,…, BBB48T, \n"
   ]
  },
  {
   "cell_type": "code",
   "execution_count": 20,
   "metadata": {},
   "outputs": [],
   "source": [
    "import numpy as np\n",
    "import scipy as sp\n",
    "import pandas as pd\n",
    "import string\n",
    "from typing import List, Union"
   ]
  },
  {
   "cell_type": "markdown",
   "metadata": {},
   "source": [
    "**<font color='green'>Creating the Site Names:</font>**"
   ]
  },
  {
   "cell_type": "code",
   "execution_count": 32,
   "metadata": {},
   "outputs": [],
   "source": [
    "def createSiteNames(Sites: Union[int, list], NSubjects: int):\n",
    "    \"\"\"\n",
    "    Given the number of sites, create a list of site names repeated NSubject times.\n",
    "    \"\"\"\n",
    "    siteNames = []\n",
    "    if type(Sites) == int:\n",
    "        for letter in string.ascii_uppercase[0:Sites]:\n",
    "            siteNames.append(letter * 3)\n",
    "        sites = np.repeat(siteNames, NSubjects)\n",
    "        sites = np.reshape(sites, newshape=(Sites, NSubjects))\n",
    "        return sites\n",
    "    \n",
    "    elif type(Sites) == list:\n",
    "        for site in Sites:\n",
    "            siteNames.append(site)\n",
    "        sites = np.repeat(siteNames, NSubjects)\n",
    "        sites = np.reshape(sites, newshape=(len(Sites), NSubjects))\n",
    "        return sites\n",
    "    \n",
    "    else:\n",
    "        raise ValueError(\"Sites must be an integer or list of strings\")"
   ]
  },
  {
   "cell_type": "code",
   "execution_count": 35,
   "metadata": {},
   "outputs": [
    {
     "data": {
      "text/plain": [
       "array([['AAA', 'AAA', 'AAA', 'AAA', 'AAA', 'AAA', 'AAA', 'AAA', 'AAA',\n",
       "        'AAA'],\n",
       "       ['BBB', 'BBB', 'BBB', 'BBB', 'BBB', 'BBB', 'BBB', 'BBB', 'BBB',\n",
       "        'BBB'],\n",
       "       ['CCC', 'CCC', 'CCC', 'CCC', 'CCC', 'CCC', 'CCC', 'CCC', 'CCC',\n",
       "        'CCC']], dtype='<U3')"
      ]
     },
     "execution_count": 35,
     "metadata": {},
     "output_type": "execute_result"
    }
   ],
   "source": [
    "testSiteNames = createSiteNames(3, 10)\n",
    "\n",
    "testSiteNames"
   ]
  },
  {
   "cell_type": "markdown",
   "metadata": {},
   "source": [
    "**<font color='green'>Repeating the above for NSubjects:</font>**"
   ]
  }
 ],
 "metadata": {
  "interpreter": {
   "hash": "b31f750b236a9bc4d767426cef20f0026ec33af4f230c1ad75ae86a0313a2829"
  },
  "kernelspec": {
   "display_name": "Python 3.9.10 ('MLDL')",
   "language": "python",
   "name": "python3"
  },
  "language_info": {
   "codemirror_mode": {
    "name": "ipython",
    "version": 3
   },
   "file_extension": ".py",
   "mimetype": "text/x-python",
   "name": "python",
   "nbconvert_exporter": "python",
   "pygments_lexer": "ipython3",
   "version": "3.9.7"
  },
  "orig_nbformat": 4
 },
 "nbformat": 4,
 "nbformat_minor": 2
}
