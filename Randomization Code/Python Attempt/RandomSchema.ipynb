{
 "cells": [
  {
   "cell_type": "markdown",
   "metadata": {},
   "source": [
    "## Project: Randomization Schema\n",
    "## Class: Statistical Consulting Continuation\n",
    "## Start Date: March 12th, 2022\n",
    "\n",
    "**<font color='red'>GOAL:</font>**\n",
    "\n",
    "I should be able to give your code and directions to any statistics student and they should be able to produce the same schema that you have, which represents the desired study design.  The input to your programs should be the parameters of #sites, #subjects/site, Randomization ratio, stratification levels.  The output should be the desired study design.\n",
    "\n",
    "**<font color='red'>DESCRIPTION:</font>**\n",
    "1.\tWrite code to create a reproducible, completely randomized design schema for *S* subjects at *T* sites in blocks of *B* where randomization is *N:D* treatment:control\n",
    "\n",
    "    a.\tExample 1:  30 subjects at site one in blocks of 6 where randomization is 1:1 treatment:control\n",
    "\n",
    "        i.\tI want the result to be a sequential list of 30 codes that look like AAA##(T or C)\n",
    "\n",
    "        ii.\tAAA01T, AAA02T, AAA03C,…, AAA30T\n",
    "\n",
    "    b.\tExample 2:  48 subjects at each of two sites in blocks of 12 where randomization is 3:1 treatment:control\n",
    "\n",
    "        i.\tI want the result to be a sequential list of 96 codes that look like AAA##(T or C) or BBB##(T or C)\n",
    "        \n",
    "        ii.\tAAA01T, AAA02T, AAA03C,…, AAA48T, BBB01T, BBB02T, BBB03C,…, BBB48T, \n"
   ]
  },
  {
   "cell_type": "code",
   "execution_count": null,
   "metadata": {},
   "outputs": [],
   "source": [
    "import numpy as np\n",
    "import scipy as sp\n",
    "import pandas as pd"
   ]
  }
 ],
 "metadata": {
  "interpreter": {
   "hash": "b31f750b236a9bc4d767426cef20f0026ec33af4f230c1ad75ae86a0313a2829"
  },
  "kernelspec": {
   "display_name": "Python 3.9.10 ('MLDL')",
   "language": "python",
   "name": "python3"
  },
  "language_info": {
   "codemirror_mode": {
    "name": "ipython",
    "version": 3
   },
   "file_extension": ".py",
   "mimetype": "text/x-python",
   "name": "python",
   "nbconvert_exporter": "python",
   "pygments_lexer": "ipython3",
   "version": "3.9.10"
  },
  "orig_nbformat": 4
 },
 "nbformat": 4,
 "nbformat_minor": 2
}
